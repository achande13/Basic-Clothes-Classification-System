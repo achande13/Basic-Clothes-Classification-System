{
  "nbformat": 4,
  "nbformat_minor": 0,
  "metadata": {
    "colab": {
      "name": "clothes_classification1.ipynb",
      "provenance": []
    },
    "kernelspec": {
      "name": "python3",
      "display_name": "Python 3"
    }
  },
  "cells": [
    {
      "cell_type": "code",
      "metadata": {
        "id": "8SQRbUPsbUlc",
        "colab_type": "code",
        "colab": {}
      },
      "source": [
        "import tensorflow as tf\n",
        "from tensorflow import keras\n",
        "class myCallback(tf.keras.callbacks.Callback):\n",
        "  def on_epoch_end(self, epoch, logs{}):\n",
        "    if(logs.get('loss')< 0.4):\n",
        "      print('/nloss is low, so cancelling training')\n",
        "      self.model.stop_training = True\n",
        "callbacks= myCallback()\n",
        "fashion_mnist=keras.datasets.fashion_mnist\n",
        "(train_images, train_labels), (test_images, test_labels)=fashion_mnist.load_data()\n",
        "#normalization\n",
        "train_images=train_images/255\n",
        "test_images=test_images/255\n",
        "model = keras.Sequential([\n",
        "                          keras.layers.Flatten(input_shape=(28,28)), #this will convert the given array into linear array\n",
        "                          keras.layers.Dense(128, activation = tf.nn.relu),\n",
        "                          keras.layers.Dense(10, activation = tf.nn.softmax)\n",
        "\n",
        "]\n",
        ")\n",
        "model.compile(optimizer= tf.keras.optimizers.Adam(),\n",
        "              loss= 'sparse_categorical_crossentropy',\n",
        "              metrics=['accuracy'])\n",
        "model.fit(train_images, train_labels, epochs=10, callbacks= [callbacks])\n",
        "\n",
        "model.evaluate(test_images, test_labels)\n",
        "classification = model.predict(test_images)\n",
        "print(classification[0])\n",
        "print(test_labels[0])"
      ],
      "execution_count": null,
      "outputs": []
    }
  ]
}